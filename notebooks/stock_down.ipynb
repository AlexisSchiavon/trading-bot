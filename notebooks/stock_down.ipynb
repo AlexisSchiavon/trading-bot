{
  "cells": [
    {
      "cell_type": "code",
      "execution_count": 29,
      "metadata": {
        "id": "ik5qbaeXBtxE"
      },
      "outputs": [],
      "source": [
        "# Importar librerías\n",
        "import pandas as pd\n",
        "import yfinance as yf\n",
        "import matplotlib.pyplot as plt\n",
        "import seaborn as sns\n",
        "from datetime import datetime"
      ]
    },
    {
      "cell_type": "code",
      "execution_count": 36,
      "metadata": {
        "id": "_z5tis04ByL2"
      },
      "outputs": [],
      "source": [
        "#Definir tickers de acciones tecnológicas a descargar\n",
        "tech_tickers = [\n",
        "    \"AAPL\", \"MSFT\", \"AMZN\", \"GOOGL\",  # Big Tech\n",
        "    \"NVDA\", \"AMD\", \"INTC\",           # Semiconductores\n",
        "    \"CRM\", \"ORCL\",           # Software\n",
        "    \"SHOP\", \"MELI\",                  # E-commerce\n",
        "    \"PANW\",                  # Ciberseguridad, \"PYPL\",                    # Fintech\n",
        "    \"META\"                   # Redes sociales\n",
        "]"
      ]
    },
    {
      "cell_type": "code",
      "execution_count": 39,
      "metadata": {
        "colab": {
          "base_uri": "https://localhost:8080/"
        },
        "id": "7DpopVGhF-yx",
        "outputId": "d5f1fd18-a317-41a8-c4b6-0d2340623f89"
      },
      "outputs": [
        {
          "name": "stderr",
          "output_type": "stream",
          "text": [
            "[*********************100%***********************]  13 of 13 completed\n"
          ]
        }
      ],
      "source": [
        "# Descargar datos en formato MultiIndex\n",
        "start_date = \"2016-01-01\"\n",
        "end_date = datetime.today().strftime('%Y-%m-%d')\n",
        "\n",
        "data = yf.download(tech_tickers, start=start_date, end=end_date, group_by='ticker', auto_adjust=True)"
      ]
    },
    {
      "cell_type": "code",
      "execution_count": 46,
      "metadata": {
        "colab": {
          "base_uri": "https://localhost:8080/"
        },
        "id": "kA7vtMIWH9wf",
        "outputId": "639b884b-1036-42e2-b47a-fbb451af59b5"
      },
      "outputs": [
        {
          "name": "stdout",
          "output_type": "stream",
          "text": [
            "Price       Date Ticker       Open       High        Low      Close     Volume\n",
            "0     2016-01-04   AAPL  23.184077  23.807681  23.046251  23.803162  270597600\n",
            "1     2016-01-05   AAPL  23.893544  23.916138  23.138893  23.206675  223164000\n",
            "2     2016-01-06   AAPL  22.720890  23.129849  22.564990  22.752522  273829600\n",
            "3     2016-01-07   AAPL  22.296124  22.623742  21.787751  21.792269  324377600\n",
            "4     2016-01-08   AAPL  22.266747  22.393275  21.862307  21.907495  283192000\n",
            "<class 'pandas.core.frame.DataFrame'>\n",
            "RangeIndex: 30940 entries, 0 to 30939\n",
            "Data columns (total 7 columns):\n",
            " #   Column  Non-Null Count  Dtype         \n",
            "---  ------  --------------  -----         \n",
            " 0   Date    30940 non-null  datetime64[ns]\n",
            " 1   Ticker  30940 non-null  object        \n",
            " 2   Open    30940 non-null  float64       \n",
            " 3   High    30940 non-null  float64       \n",
            " 4   Low     30940 non-null  float64       \n",
            " 5   Close   30940 non-null  float64       \n",
            " 6   Volume  30940 non-null  int64         \n",
            "dtypes: datetime64[ns](1), float64(4), int64(1), object(1)\n",
            "memory usage: 1.7+ MB\n",
            "None\n"
          ]
        }
      ],
      "source": [
        "# Transformar a formato largo\n",
        "frames = []\n",
        "for ticker in tech_tickers:\n",
        "    try:\n",
        "        df = data[ticker].copy()\n",
        "        df['Ticker'] = ticker\n",
        "        df.reset_index(inplace=True)  # pasa 'Date' del índice a columna\n",
        "        frames.append(df)\n",
        "    except KeyError:\n",
        "        print(f\"[Warning] No se pudo extraer data para {ticker}\")\n",
        "\n",
        "# Concatenar todos los dataframes\n",
        "df_all = pd.concat(frames, ignore_index=True)\n",
        "\n",
        "# Reordenar columnas\n",
        "df_all = df_all[['Date', 'Ticker', 'Open', 'High', 'Low', 'Close', 'Volume']]\n",
        "\n",
        "# Ordenar por fecha y ticker\n",
        "df_all.sort_values(by=['Ticker', 'Date'], inplace=True)\n",
        "df_all.reset_index(drop=True, inplace=True)\n",
        "\n",
        "# Inspeccionar resultado final\n",
        "print(df_all.head())\n",
        "print(df_all.info())"
      ]
    },
    {
      "cell_type": "code",
      "execution_count": null,
      "metadata": {
        "id": "axxrOHvIKrMm"
      },
      "outputs": [],
      "source": [
        "#df_all.to_csv(\"historical_tech_stocks.csv\", index=False)"
      ]
    }
  ],
  "metadata": {
    "colab": {
      "provenance": []
    },
    "kernelspec": {
      "display_name": "Python 3",
      "name": "python3"
    },
    "language_info": {
      "name": "python"
    }
  },
  "nbformat": 4,
  "nbformat_minor": 0
}
